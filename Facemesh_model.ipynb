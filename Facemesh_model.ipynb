{
  "nbformat": 4,
  "nbformat_minor": 0,
  "metadata": {
    "colab": {
      "provenance": [],
      "collapsed_sections": [],
      "include_colab_link": true
    },
    "kernelspec": {
      "name": "python3",
      "display_name": "Python 3"
    },
    "language_info": {
      "name": "python"
    }
  },
  "cells": [
    {
      "cell_type": "markdown",
      "metadata": {
        "id": "view-in-github",
        "colab_type": "text"
      },
      "source": [
        "<a href=\"https://colab.research.google.com/github/demirsel/selimdemir/blob/master/Facemesh_model.ipynb\" target=\"_parent\"><img src=\"https://colab.research.google.com/assets/colab-badge.svg\" alt=\"Open In Colab\"/></a>"
      ]
    },
    {
      "cell_type": "markdown",
      "metadata": {
        "id": "ap-GaUt40aqn"
      },
      "source": [
        "**Importing and installing the required dependencies**"
      ]
    },
    {
      "cell_type": "code",
      "metadata": {
        "id": "MoMh5pBX0U49"
      },
      "source": [
        "!pip install opencv-python mediapipe"
      ],
      "execution_count": null,
      "outputs": []
    },
    {
      "cell_type": "code",
      "metadata": {
        "id": "8aTBWJFj00Mq"
      },
      "source": [
        "import cv2\n",
        "import mediapipe as mp"
      ],
      "execution_count": null,
      "outputs": []
    },
    {
      "cell_type": "code",
      "metadata": {
        "id": "btBNi252053k"
      },
      "source": [
        "mp_drawing = mp.solutions.drawing_utils\n",
        "mp_drawing_styles = mp.solutions.drawing_styles\n",
        "mp_face_mesh = mp.solutions.face_mesh"
      ],
      "execution_count": null,
      "outputs": []
    },
    {
      "cell_type": "markdown",
      "metadata": {
        "id": "p5J-NmxUA2pv"
      },
      "source": [
        "**Loading the image**"
      ]
    },
    {
      "cell_type": "markdown",
      "metadata": {
        "id": "2wOmgcLcvZwZ"
      },
      "source": [
        "Make sure to load any of your image on Colab and rename it to image.png"
      ]
    },
    {
      "cell_type": "code",
      "source": [
        "from google.colab import drive\n",
        "drive.mount('/content/drive')"
      ],
      "metadata": {
        "id": "PgqaQi32hPka"
      },
      "execution_count": null,
      "outputs": []
    },
    {
      "cell_type": "code",
      "source": [
        "from google.colab.patches import cv2_imshow\n",
        "image = cv2.imread(\"/content/drive/MyDrive/nage.jpg\")\n",
        "cv2_imshow(image)\n",
        "cv2.waitKey(0)"
      ],
      "metadata": {
        "id": "WCY9WWMVj3kT"
      },
      "execution_count": null,
      "outputs": []
    },
    {
      "cell_type": "markdown",
      "metadata": {
        "id": "DL6OGqhjBCfz"
      },
      "source": [
        "**Drawing the face mesh annotations on the image**"
      ]
    },
    {
      "cell_type": "code",
      "metadata": {
        "id": "xc35Okmz3gCg"
      },
      "source": [
        "drawing_spec = mp_drawing.DrawingSpec(thickness=1, circle_radius=1)\n",
        "with mp_face_mesh.FaceMesh(\n",
        "    static_image_mode=True,\n",
        "    max_num_faces=1,\n",
        "    refine_landmarks=True,\n",
        "    min_detection_confidence=0.5) as face_mesh:\n",
        "\n",
        "    image = cv2.imread(\"/content/drive/MyDrive/nage.jpg\")\n",
        "    # Convert the BGR image to RGB before processing.\n",
        "    results = face_mesh.process(cv2.cvtColor(image, cv2.COLOR_BGR2RGB))\n",
        "\n",
        "    # Print and draw face mesh landmarks on the image.\n",
        "    annotated_image = image.copy()\n",
        "    for face_landmarks in results.multi_face_landmarks:\n",
        "      print('face_landmarks:', face_landmarks)\n",
        "      mp_drawing.draw_landmarks(\n",
        "          image=annotated_image,\n",
        "          landmark_list=face_landmarks,\n",
        "          connections=mp_face_mesh.FACEMESH_TESSELATION,\n",
        "          landmark_drawing_spec=None,\n",
        "          connection_drawing_spec=mp_drawing_styles\n",
        "          .get_default_face_mesh_tesselation_style())\n",
        "      mp_drawing.draw_landmarks(\n",
        "          image=annotated_image,\n",
        "          landmark_list=face_landmarks,\n",
        "          connections=mp_face_mesh.FACEMESH_CONTOURS,\n",
        "          landmark_drawing_spec=None,\n",
        "          connection_drawing_spec=mp_drawing_styles\n",
        "          .get_default_face_mesh_contours_style())\n",
        "      mp_drawing.draw_landmarks(\n",
        "          image=annotated_image,\n",
        "          landmark_list=face_landmarks,\n",
        "          connections=mp_face_mesh.FACEMESH_IRISES,\n",
        "          landmark_drawing_spec=None,\n",
        "          connection_drawing_spec=mp_drawing_styles\n",
        "          .get_default_face_mesh_iris_connections_style())\n",
        "      cv2.imwrite('/tmp/annotated_image' + '.png', annotated_image)"
      ],
      "execution_count": null,
      "outputs": []
    },
    {
      "cell_type": "code",
      "metadata": {
        "id": "fCAbJq-OworU"
      },
      "source": [
        "cv2_imshow(annotated_image)"
      ],
      "execution_count": null,
      "outputs": []
    },
    {
      "cell_type": "markdown",
      "metadata": {
        "id": "Ov8hsVJYuZiq"
      },
      "source": [
        "**This is extra code:**"
      ]
    },
    {
      "cell_type": "markdown",
      "metadata": {
        "id": "yzs_OnKiueZn"
      },
      "source": [
        "If you want to use your computer webcam"
      ]
    },
    {
      "cell_type": "code",
      "metadata": {
        "id": "x2e3qEf7uiB3"
      },
      "source": [
        "from IPython.display import display, Javascript\n",
        "from google.colab.output import eval_js\n",
        "from base64 import b64decode\n",
        "def take_photo(filename='photo.jpg', quality=0.8):\n",
        "  js = Javascript('''\n",
        "    async function takePhoto(quality) {\n",
        "      const div = document.createElement('div');\n",
        "      const capture = document.createElement('button');\n",
        "      capture.textContent = 'Capture';\n",
        "      div.appendChild(capture);\n",
        "      const video = document.createElement('video');\n",
        "      video.style.display = 'block';\n",
        "      const stream = await navigator.mediaDevices.getUserMedia({video: true});\n",
        "      document.body.appendChild(div);\n",
        "      div.appendChild(video);\n",
        "      video.srcObject = stream;\n",
        "      await video.play();\n",
        "      // Resize the output to fit the video element.\n",
        "      google.colab.output.setIframeHeight(document.documentElement.scrollHeight, true);\n",
        "      // Wait for Capture to be clicked.\n",
        "      await new Promise((resolve) => capture.onclick = resolve);\n",
        "      const canvas = document.createElement('canvas');\n",
        "      canvas.width = video.videoWidth;\n",
        "      canvas.height = video.videoHeight;\n",
        "      canvas.getContext('2d').drawImage(video, 0, 0);\n",
        "      stream.getVideoTracks()[0].stop();\n",
        "      div.remove();\n",
        "      return canvas.toDataURL('image/jpeg', quality);\n",
        "    }\n",
        "    ''')\n",
        "  display(js)\n",
        "  data = eval_js('takePhoto({})'.format(quality))\n",
        "  binary = b64decode(data.split(',')[1])\n",
        "  with open(filename, 'wb') as f:\n",
        "    f.write(binary)\n",
        "  return filename"
      ],
      "execution_count": null,
      "outputs": []
    },
    {
      "cell_type": "code",
      "metadata": {
        "id": "hQRPf8FOuysL",
        "colab": {
          "base_uri": "https://localhost:8080/"
        },
        "outputId": "b8a5e7c3-bfa4-4e53-c5b1-4acc0f82e262"
      },
      "source": [
        "from IPython.display import Image\n",
        "try:\n",
        "  filename = take_photo()\n",
        "  print('Saved to {}'.format(filename))\n",
        "  \n",
        "  # Show the image which was just taken.\n",
        "  display(Image(filename))\n",
        "except Exception as err:\n",
        "  # Errors will be thrown if the user does not have a webcam or if they do not\n",
        "  # grant the page permission to access it.\n",
        "  print(str(err))"
      ],
      "execution_count": 27,
      "outputs": [
        {
          "output_type": "stream",
          "name": "stdout",
          "text": [
            "'NoneType' object has no attribute 'split'\n"
          ]
        }
      ]
    },
    {
      "cell_type": "code",
      "metadata": {
        "id": "iJxOPltivJ9Q"
      },
      "source": [
        "drawing_spec = mp_drawing.DrawingSpec(thickness=1, circle_radius=1)\n",
        "with mp_face_mesh.FaceMesh(\n",
        "    static_image_mode=True,\n",
        "    max_num_faces=1,\n",
        "    refine_landmarks=True,\n",
        "    min_detection_confidence=0.5) as face_mesh:\n",
        "\n",
        "    image = cv2.imread(\"photo.jpg\")\n",
        "    # Convert the BGR image to RGB before processing.\n",
        "    results = face_mesh.process(cv2.cvtColor(image, cv2.COLOR_BGR2RGB))\n",
        "\n",
        "    # Print and draw face mesh landmarks on the image.\n",
        "    annotated_image = image.copy()\n",
        "    for face_landmarks in results.multi_face_landmarks:\n",
        "      print('face_landmarks:', face_landmarks)\n",
        "      mp_drawing.draw_landmarks(\n",
        "          image=annotated_image,\n",
        "          landmark_list=face_landmarks,\n",
        "          connections=mp_face_mesh.FACEMESH_TESSELATION,\n",
        "          landmark_drawing_spec=None,\n",
        "          connection_drawing_spec=mp_drawing_styles\n",
        "          .get_default_face_mesh_tesselation_style())\n",
        "      mp_drawing.draw_landmarks(\n",
        "          image=annotated_image,\n",
        "          landmark_list=face_landmarks,\n",
        "          connections=mp_face_mesh.FACEMESH_CONTOURS,\n",
        "          landmark_drawing_spec=None,\n",
        "          connection_drawing_spec=mp_drawing_styles\n",
        "          .get_default_face_mesh_contours_style())\n",
        "      mp_drawing.draw_landmarks(\n",
        "          image=annotated_image,\n",
        "          landmark_list=face_landmarks,\n",
        "          connections=mp_face_mesh.FACEMESH_IRISES,\n",
        "          landmark_drawing_spec=None,\n",
        "          connection_drawing_spec=mp_drawing_styles\n",
        "          .get_default_face_mesh_iris_connections_style())\n",
        "      cv2.imwrite('/tmp/annotated_image' + '.png', annotated_image)"
      ],
      "execution_count": null,
      "outputs": []
    },
    {
      "cell_type": "code",
      "metadata": {
        "id": "jDn3XPCuw4kp"
      },
      "source": [
        "cv2_imshow(annotated_image)"
      ],
      "execution_count": null,
      "outputs": []
    },
    {
      "cell_type": "markdown",
      "metadata": {
        "id": "taT0CqvkxdTn"
      },
      "source": [
        "Make sure to delete your photo afterwards and clear the terminal outputs."
      ]
    }
  ]
}